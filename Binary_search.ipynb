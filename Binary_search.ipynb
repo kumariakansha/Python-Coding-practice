{
 "cells": [
  {
   "cell_type": "markdown",
   "metadata": {},
   "source": [
    "This program is for linear search "
   ]
  },
  {
   "cell_type": "code",
   "execution_count": 15,
   "metadata": {
    "scrolled": true
   },
   "outputs": [
    {
     "name": "stdout",
     "output_type": "stream",
     "text": [
      "Enter the number of elemnts:\n",
      "5\n",
      "Enter the array list\n",
      "23\n",
      "34\n",
      "45\n",
      "56\n",
      "67\n",
      "The element to be searched:\n",
      "45\n",
      "the element is present at 3\n"
     ]
    }
   ],
   "source": [
    "def Binary(arr,l,r,x):\n",
    "    if(r>=l):\n",
    "        mid=int(l+(r-l)/2);\n",
    "        if arr[mid]==x:\n",
    "          return mid;\n",
    "        elif(mid> x):\n",
    "            return Binary(arr,l,mid-1,x);\n",
    "        else:\n",
    "            return Binary(arr,mid+1,r,x);\n",
    "    else:\n",
    "        return -1;\n",
    "\n",
    "print('Enter the number of elemnts:');\n",
    "n=int(input());\n",
    "\n",
    "print('Enter the array list');\n",
    "\n",
    "arr=[];\n",
    "\n",
    "for i in range(0,n):\n",
    "    x=int(input());\n",
    "    arr.append(x);\n",
    "print('The element to be searched:');\n",
    "x=int(input());\n",
    "y=Binary(arr,0,n-1,x);\n",
    "print('the element is present at', y+1);\n",
    "        "
   ]
  }
 ],
 "metadata": {
  "kernelspec": {
   "display_name": "Python 3",
   "language": "python",
   "name": "python3"
  },
  "language_info": {
   "codemirror_mode": {
    "name": "ipython",
    "version": 3
   },
   "file_extension": ".py",
   "mimetype": "text/x-python",
   "name": "python",
   "nbconvert_exporter": "python",
   "pygments_lexer": "ipython3",
   "version": "3.6.1"
  }
 },
 "nbformat": 4,
 "nbformat_minor": 2
}
