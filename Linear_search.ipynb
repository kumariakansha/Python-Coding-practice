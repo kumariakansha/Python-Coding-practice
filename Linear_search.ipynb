{
 "cells": [
  {
   "cell_type": "markdown",
   "metadata": {},
   "source": [
    "This program is for linear search "
   ]
  },
  {
   "cell_type": "code",
   "execution_count": 7,
   "metadata": {},
   "outputs": [
    {
     "name": "stdout",
     "output_type": "stream",
     "text": [
      "Enter the number of elemnts:\n",
      "4\n",
      "Enter the array list\n",
      "23\n",
      "45\n",
      "41\n",
      "90\n",
      "The element to be searched:\n",
      "45\n",
      "the element is present at 1\n"
     ]
    }
   ],
   "source": [
    "def linear(arr,n,x):\n",
    "    for i in range(0,n):\n",
    "        if(arr[i]==x):\n",
    "            return i;\n",
    "    return -1;\n",
    "\n",
    "print('Enter the number of elemnts:');\n",
    "n=int(input());\n",
    "\n",
    "print('Enter the array list');\n",
    "\n",
    "arr=[];\n",
    "\n",
    "for i in range(0,n):\n",
    "    x=int(input());\n",
    "    arr.append(x);\n",
    "print('The element to be searched:');\n",
    "x=int(input());\n",
    "y=linear(arr,n,x);\n",
    "print('the element is present at', y+1);\n",
    "        "
   ]
  }
 ],
 "metadata": {
  "kernelspec": {
   "display_name": "Python 3",
   "language": "python",
   "name": "python3"
  },
  "language_info": {
   "codemirror_mode": {
    "name": "ipython",
    "version": 3
   },
   "file_extension": ".py",
   "mimetype": "text/x-python",
   "name": "python",
   "nbconvert_exporter": "python",
   "pygments_lexer": "ipython3",
   "version": "3.6.1"
  }
 },
 "nbformat": 4,
 "nbformat_minor": 2
}
